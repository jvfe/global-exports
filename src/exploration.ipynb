{
 "cells": [
  {
   "cell_type": "code",
   "execution_count": 1,
   "metadata": {},
   "outputs": [],
   "source": [
    "import pandas as pd\n",
    "import networkx as nx\n",
    "import pycountry as pc\n",
    "import pycountry_convert as pcc\n",
    "from collections import defaultdict"
   ]
  },
  {
   "cell_type": "code",
   "execution_count": 2,
   "metadata": {},
   "outputs": [],
   "source": [
    "def get_alphacode(c):\n",
    "    return pc.countries.search_fuzzy(c)[0].alpha_3\n",
    "\n",
    "def get_continent(c):\n",
    "    alpha2 = pc.countries.get(alpha_3=c).alpha_2\n",
    "    try:\n",
    "        result = pcc.country_alpha2_to_continent_code(alpha2)\n",
    "    except:\n",
    "        result = 'NaN'\n",
    "    return result"
   ]
  },
  {
   "cell_type": "code",
   "execution_count": 3,
   "metadata": {},
   "outputs": [],
   "source": [
    "total = pd.read_csv(\"../data/major-trading-partners.csv\")"
   ]
  },
  {
   "cell_type": "code",
   "execution_count": 4,
   "metadata": {},
   "outputs": [],
   "source": [
    "total = total[total['Year']==2018]"
   ]
  },
  {
   "cell_type": "code",
   "execution_count": 5,
   "metadata": {},
   "outputs": [
    {
     "data": {
      "text/plain": [
       "(1272, 9)"
      ]
     },
     "execution_count": 5,
     "metadata": {},
     "output_type": "execute_result"
    }
   ],
   "source": [
    "total.shape"
   ]
  },
  {
   "cell_type": "code",
   "execution_count": 6,
   "metadata": {},
   "outputs": [],
   "source": [
    "total = total[\n",
    "    (~total['Major trading partner 1 (% of exports)'].isin(['Areas nes',\n",
    "                                                            'Bunkers', \n",
    "                                                            'Undisclosed', \n",
    "                                                            'Free Zones',\n",
    "                                                            'Areas, nes',\n",
    "                                                            'Asia nes',\n",
    "                                                            'Europe nes']) &\n",
    "     (~total['Major trading partner'].isin(['Other non-specified areas'])))\n",
    "].replace(\n",
    "    ['Dem. Rep. of the Congo', 'Rep. of Korea'],\n",
    "    ['Congo, The Democratic Republic of the','Korea, Republic of']\n",
    ")"
   ]
  },
  {
   "cell_type": "code",
   "execution_count": 7,
   "metadata": {},
   "outputs": [],
   "source": [
    "total['country_code'] = [get_alphacode(c) for c in total['Major trading partner']]\n",
    "total['partner_code'] = [get_alphacode(c) for c in total['Major trading partner 1 (% of exports)']]"
   ]
  },
  {
   "cell_type": "code",
   "execution_count": 8,
   "metadata": {},
   "outputs": [],
   "source": [
    "only_imports = ['Major trading partner 1 (% of imports)', \n",
    "                'Major trading partner 2 (% of imports)', \n",
    "                'Major trading partner 3 (% of imports)']\n",
    "\n",
    "idx2 = ['partner_code' , 'country_code', 'Value']\n",
    "imports = total[total['Series'].isin(only_imports)][idx2].copy() "
   ]
  },
  {
   "cell_type": "code",
   "execution_count": 9,
   "metadata": {},
   "outputs": [],
   "source": [
    "only_exports = ['Major trading partner 1 (% of exports)', \n",
    "                'Major trading partner 2 (% of exports)', \n",
    "                'Major trading partner 3 (% of exports)']\n",
    "idx1 = ['country_code', 'partner_code' , 'Value']\n",
    "\n",
    "exports = total[total['Series'].isin(only_exports)][idx1].copy()  "
   ]
  },
  {
   "cell_type": "code",
   "execution_count": 10,
   "metadata": {},
   "outputs": [],
   "source": [
    "imports.rename(columns={\n",
    "    'partner_code': 'Source',\n",
    "    'country_code': 'Target',\n",
    "    'Value': 'Weight'\n",
    "}, inplace=True)\n",
    "\n",
    "exports.rename(columns={\n",
    "    'country_code': 'Source',\n",
    "    'partner_code': 'Target',\n",
    "    'Value': 'Weight'\n",
    "}, inplace=True)"
   ]
  },
  {
   "cell_type": "code",
   "execution_count": 11,
   "metadata": {},
   "outputs": [],
   "source": [
    "trading_edgelist = pd.concat([imports,exports])"
   ]
  },
  {
   "cell_type": "code",
   "execution_count": 12,
   "metadata": {},
   "outputs": [],
   "source": [
    "trading_nodelist = pd.DataFrame(\n",
    "    set(list(trading_edgelist['Source']) + list(trading_edgelist['Target'])),\n",
    "    columns=['Node']\n",
    ")"
   ]
  },
  {
   "cell_type": "code",
   "execution_count": 13,
   "metadata": {},
   "outputs": [],
   "source": [
    "trading_nodelist['continent'] = [get_continent(c) for c in trading_nodelist['Node']]"
   ]
  },
  {
   "cell_type": "code",
   "execution_count": 14,
   "metadata": {},
   "outputs": [
    {
     "data": {
      "text/html": [
       "<div>\n",
       "<style scoped>\n",
       "    .dataframe tbody tr th:only-of-type {\n",
       "        vertical-align: middle;\n",
       "    }\n",
       "\n",
       "    .dataframe tbody tr th {\n",
       "        vertical-align: top;\n",
       "    }\n",
       "\n",
       "    .dataframe thead th {\n",
       "        text-align: right;\n",
       "    }\n",
       "</style>\n",
       "<table border=\"1\" class=\"dataframe\">\n",
       "  <thead>\n",
       "    <tr style=\"text-align: right;\">\n",
       "      <th></th>\n",
       "      <th>Node</th>\n",
       "      <th>continent</th>\n",
       "    </tr>\n",
       "  </thead>\n",
       "  <tbody>\n",
       "    <tr>\n",
       "      <th>0</th>\n",
       "      <td>GIB</td>\n",
       "      <td>EU</td>\n",
       "    </tr>\n",
       "    <tr>\n",
       "      <th>1</th>\n",
       "      <td>CHE</td>\n",
       "      <td>EU</td>\n",
       "    </tr>\n",
       "    <tr>\n",
       "      <th>2</th>\n",
       "      <td>KOR</td>\n",
       "      <td>AS</td>\n",
       "    </tr>\n",
       "    <tr>\n",
       "      <th>3</th>\n",
       "      <td>PNG</td>\n",
       "      <td>OC</td>\n",
       "    </tr>\n",
       "    <tr>\n",
       "      <th>4</th>\n",
       "      <td>STP</td>\n",
       "      <td>AF</td>\n",
       "    </tr>\n",
       "  </tbody>\n",
       "</table>\n",
       "</div>"
      ],
      "text/plain": [
       "  Node continent\n",
       "0  GIB        EU\n",
       "1  CHE        EU\n",
       "2  KOR        AS\n",
       "3  PNG        OC\n",
       "4  STP        AF"
      ]
     },
     "execution_count": 14,
     "metadata": {},
     "output_type": "execute_result"
    }
   ],
   "source": [
    "trading_nodelist.head()"
   ]
  },
  {
   "cell_type": "code",
   "execution_count": 15,
   "metadata": {},
   "outputs": [
    {
     "data": {
      "text/html": [
       "<div>\n",
       "<style scoped>\n",
       "    .dataframe tbody tr th:only-of-type {\n",
       "        vertical-align: middle;\n",
       "    }\n",
       "\n",
       "    .dataframe tbody tr th {\n",
       "        vertical-align: top;\n",
       "    }\n",
       "\n",
       "    .dataframe thead th {\n",
       "        text-align: right;\n",
       "    }\n",
       "</style>\n",
       "<table border=\"1\" class=\"dataframe\">\n",
       "  <thead>\n",
       "    <tr style=\"text-align: right;\">\n",
       "      <th></th>\n",
       "      <th>Node</th>\n",
       "      <th>continent</th>\n",
       "    </tr>\n",
       "  </thead>\n",
       "  <tbody>\n",
       "    <tr>\n",
       "      <th>143</th>\n",
       "      <td>TLS</td>\n",
       "      <td>NaN</td>\n",
       "    </tr>\n",
       "  </tbody>\n",
       "</table>\n",
       "</div>"
      ],
      "text/plain": [
       "    Node continent\n",
       "143  TLS       NaN"
      ]
     },
     "execution_count": 15,
     "metadata": {},
     "output_type": "execute_result"
    }
   ],
   "source": [
    "trading_nodelist[trading_nodelist['continent']=='NaN']"
   ]
  },
  {
   "cell_type": "code",
   "execution_count": 16,
   "metadata": {},
   "outputs": [],
   "source": [
    "trading_nodelist.iloc[205,1] = 'AS'"
   ]
  },
  {
   "cell_type": "code",
   "execution_count": 17,
   "metadata": {},
   "outputs": [],
   "source": [
    "trading_nodelist.to_csv('../data/trading_nodelist.csv', index=False)\n",
    "trading_edgelist.to_csv('../data/trading_edgelist.csv', index=False)"
   ]
  }
 ],
 "metadata": {
  "kernelspec": {
   "display_name": "Python 3",
   "language": "python",
   "name": "python3"
  },
  "language_info": {
   "codemirror_mode": {
    "name": "ipython",
    "version": 3
   },
   "file_extension": ".py",
   "mimetype": "text/x-python",
   "name": "python",
   "nbconvert_exporter": "python",
   "pygments_lexer": "ipython3",
   "version": "3.8.2"
  }
 },
 "nbformat": 4,
 "nbformat_minor": 4
}
