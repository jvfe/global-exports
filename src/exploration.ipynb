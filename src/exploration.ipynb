{
 "cells": [
  {
   "cell_type": "code",
   "execution_count": 1,
   "metadata": {},
   "outputs": [],
   "source": [
    "import pandas as pd\n",
    "import networkx as nx\n",
    "import pycountry as pc\n",
    "import pycountry_convert as pcc\n",
    "from collections import defaultdict"
   ]
  },
  {
   "cell_type": "code",
   "execution_count": 2,
   "metadata": {},
   "outputs": [],
   "source": [
    "total = pd.read_csv(\"major-trading-partners.csv\")"
   ]
  },
  {
   "cell_type": "code",
   "execution_count": 3,
   "metadata": {},
   "outputs": [],
   "source": [
    "total = total[total['Year']==2018]"
   ]
  },
  {
   "cell_type": "code",
   "execution_count": 4,
   "metadata": {},
   "outputs": [
    {
     "data": {
      "text/plain": [
       "(1272, 9)"
      ]
     },
     "execution_count": 4,
     "metadata": {},
     "output_type": "execute_result"
    }
   ],
   "source": [
    "total.shape"
   ]
  },
  {
   "cell_type": "code",
   "execution_count": 5,
   "metadata": {},
   "outputs": [],
   "source": [
    "total = total[\n",
    "    (~total['Major trading partner 1 (% of exports)'].isin(['Areas nes',\n",
    "                                                            'Bunkers', \n",
    "                                                            'Undisclosed', \n",
    "                                                            'Free Zones',\n",
    "                                                            'Areas, nes',\n",
    "                                                            'Asia nes',\n",
    "                                                            'Europe nes']) &\n",
    "     (~total['Major trading partner'].isin(['Other non-specified areas'])))\n",
    "].replace('Dem. Rep. of the Congo',\n",
    "          'Congo, The Democratic Republic of the').replace('Rep. of Korea',\n",
    "                                                           'Korea, Republic of')"
   ]
  },
  {
   "cell_type": "code",
   "execution_count": 6,
   "metadata": {},
   "outputs": [],
   "source": [
    "def get_alphacode(c):\n",
    "    return pc.countries.search_fuzzy(c)[0].alpha_3\n",
    "\n",
    "def get_continent(c):\n",
    "    return pcc.country_alpha2_to_continent_code(c)"
   ]
  },
  {
   "cell_type": "code",
   "execution_count": 7,
   "metadata": {},
   "outputs": [],
   "source": [
    "total['country_code'] = [get_alphacode(c) for c in total['Major trading partner']]\n",
    "total['partner_code'] = [get_alphacode(c) for c in total['Major trading partner 1 (% of exports)']]"
   ]
  },
  {
   "cell_type": "code",
   "execution_count": 8,
   "metadata": {},
   "outputs": [],
   "source": [
    "only_imports = ['Major trading partner 1 (% of imports)', \n",
    "                'Major trading partner 2 (% of imports)', \n",
    "                'Major trading partner 3 (% of imports)']\n",
    "\n",
    "idx2 = ['partner_code' , 'country_code', 'Value']\n",
    "imports = total[total['Series'].isin(only_imports)][idx2].copy() "
   ]
  },
  {
   "cell_type": "code",
   "execution_count": 9,
   "metadata": {},
   "outputs": [],
   "source": [
    "only_exports = ['Major trading partner 1 (% of exports)', \n",
    "                'Major trading partner 2 (% of exports)', \n",
    "                'Major trading partner 3 (% of exports)']\n",
    "idx1 = ['country_code', 'partner_code' , 'Value']\n",
    "\n",
    "exports = total[total['Series'].isin(only_exports)][idx1].copy()  "
   ]
  },
  {
   "cell_type": "code",
   "execution_count": 10,
   "metadata": {},
   "outputs": [
    {
     "data": {
      "text/html": [
       "<div>\n",
       "<style scoped>\n",
       "    .dataframe tbody tr th:only-of-type {\n",
       "        vertical-align: middle;\n",
       "    }\n",
       "\n",
       "    .dataframe tbody tr th {\n",
       "        vertical-align: top;\n",
       "    }\n",
       "\n",
       "    .dataframe thead th {\n",
       "        text-align: right;\n",
       "    }\n",
       "</style>\n",
       "<table border=\"1\" class=\"dataframe\">\n",
       "  <thead>\n",
       "    <tr style=\"text-align: right;\">\n",
       "      <th></th>\n",
       "      <th>Source</th>\n",
       "      <th>Target</th>\n",
       "      <th>Weight</th>\n",
       "    </tr>\n",
       "  </thead>\n",
       "  <tbody>\n",
       "    <tr>\n",
       "      <th>3</th>\n",
       "      <td>IRN</td>\n",
       "      <td>AFG</td>\n",
       "      <td>19.3620</td>\n",
       "    </tr>\n",
       "    <tr>\n",
       "      <th>7</th>\n",
       "      <td>PAK</td>\n",
       "      <td>AFG</td>\n",
       "      <td>18.3461</td>\n",
       "    </tr>\n",
       "    <tr>\n",
       "      <th>11</th>\n",
       "      <td>CHN</td>\n",
       "      <td>AFG</td>\n",
       "      <td>16.7230</td>\n",
       "    </tr>\n",
       "    <tr>\n",
       "      <th>17</th>\n",
       "      <td>ITA</td>\n",
       "      <td>ALB</td>\n",
       "      <td>28.6278</td>\n",
       "    </tr>\n",
       "    <tr>\n",
       "      <th>22</th>\n",
       "      <td>TUR</td>\n",
       "      <td>ALB</td>\n",
       "      <td>8.1093</td>\n",
       "    </tr>\n",
       "    <tr>\n",
       "      <th>...</th>\n",
       "      <td>...</td>\n",
       "      <td>...</td>\n",
       "      <td>...</td>\n",
       "    </tr>\n",
       "    <tr>\n",
       "      <th>3634</th>\n",
       "      <td>ZMB</td>\n",
       "      <td>CHE</td>\n",
       "      <td>42.0801</td>\n",
       "    </tr>\n",
       "    <tr>\n",
       "      <th>3640</th>\n",
       "      <td>ZMB</td>\n",
       "      <td>CHN</td>\n",
       "      <td>14.4475</td>\n",
       "    </tr>\n",
       "    <tr>\n",
       "      <th>3646</th>\n",
       "      <td>ZMB</td>\n",
       "      <td>COD</td>\n",
       "      <td>9.5418</td>\n",
       "    </tr>\n",
       "    <tr>\n",
       "      <th>3652</th>\n",
       "      <td>ZWE</td>\n",
       "      <td>ZAF</td>\n",
       "      <td>51.4752</td>\n",
       "    </tr>\n",
       "    <tr>\n",
       "      <th>3658</th>\n",
       "      <td>ZWE</td>\n",
       "      <td>ARE</td>\n",
       "      <td>18.1383</td>\n",
       "    </tr>\n",
       "  </tbody>\n",
       "</table>\n",
       "<p>1217 rows × 3 columns</p>\n",
       "</div>"
      ],
      "text/plain": [
       "     Source Target   Weight\n",
       "3       IRN    AFG  19.3620\n",
       "7       PAK    AFG  18.3461\n",
       "11      CHN    AFG  16.7230\n",
       "17      ITA    ALB  28.6278\n",
       "22      TUR    ALB   8.1093\n",
       "...     ...    ...      ...\n",
       "3634    ZMB    CHE  42.0801\n",
       "3640    ZMB    CHN  14.4475\n",
       "3646    ZMB    COD   9.5418\n",
       "3652    ZWE    ZAF  51.4752\n",
       "3658    ZWE    ARE  18.1383\n",
       "\n",
       "[1217 rows x 3 columns]"
      ]
     },
     "execution_count": 10,
     "metadata": {},
     "output_type": "execute_result"
    }
   ],
   "source": [
    "imports.rename(columns={\n",
    "    'partner_code': 'Source',\n",
    "    'country_code': 'Target',\n",
    "    'Value': 'Weight'\n",
    "}, inplace=True)\n",
    "\n",
    "exports.rename(columns={\n",
    "    'country_code': 'Source',\n",
    "    'partner_code': 'Target',\n",
    "    'Value': 'Weight'\n",
    "}, inplace=True)\n",
    "\n",
    "pd.concat([imports,exports])"
   ]
  }
 ],
 "metadata": {
  "kernelspec": {
   "display_name": "Python 3",
   "language": "python",
   "name": "python3"
  },
  "language_info": {
   "codemirror_mode": {
    "name": "ipython",
    "version": 3
   },
   "file_extension": ".py",
   "mimetype": "text/x-python",
   "name": "python",
   "nbconvert_exporter": "python",
   "pygments_lexer": "ipython3",
   "version": "3.8.2"
  }
 },
 "nbformat": 4,
 "nbformat_minor": 4
}
